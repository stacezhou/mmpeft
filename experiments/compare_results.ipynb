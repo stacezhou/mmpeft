{
 "cells": [
  {
   "cell_type": "code",
   "execution_count": 53,
   "metadata": {},
   "outputs": [],
   "source": [
    "import json\n",
    "from pathlib import Path\n",
    "from shutil import rmtree"
   ]
  },
  {
   "cell_type": "code",
   "execution_count": 54,
   "metadata": {},
   "outputs": [],
   "source": [
    "from mmengine.config import Config\n",
    "from mmpretrain.utils import load_json_log"
   ]
  },
  {
   "cell_type": "code",
   "execution_count": 55,
   "metadata": {},
   "outputs": [],
   "source": [
    "WORKDIRS = '/home/zh21/mmpretrain/work_dirs'"
   ]
  },
  {
   "cell_type": "code",
   "execution_count": 56,
   "metadata": {},
   "outputs": [
    {
     "name": "stdout",
     "output_type": "stream",
     "text": [
      "Delete /home/zh21/mmpretrain/work_dirs/clip_vit_b32/20230416_130735\n"
     ]
    }
   ],
   "source": [
    "## Clean up\n",
    "for exp in Path(WORKDIRS).glob('*'):\n",
    "    if not exp.is_dir():\n",
    "        continue\n",
    "    for trial in exp.glob('*'):\n",
    "        if not trial.is_dir():\n",
    "            continue\n",
    "        config_path = trial / 'vis_data' / 'config.py'\n",
    "        json_file = trial / 'vis_data' / f'{trial.stem}.json'\n",
    "        json_file2 = trial / 'vis_data' / f'scalars.json'\n",
    "        valid = config_path.exists() and ( json_file.exists() or json_file2.exists())\n",
    "        if not valid:\n",
    "            rmtree(trial)\n",
    "            print(f'Delete {trial}')\n",
    "        \n",
    "        wandb_path = trial / 'vis_data' /'wandb'\n",
    "        if wandb_path.exists():\n",
    "            rmtree(wandb_path)\n",
    "        \n",
    "        for d in trial.glob('*'):\n",
    "            if d.is_dir() and len(list(d.glob('*'))) == 0:\n",
    "                d.rmdir()\n",
    "                print(f'Delete {d}')"
   ]
  },
  {
   "cell_type": "code",
   "execution_count": 57,
   "metadata": {},
   "outputs": [
    {
     "name": "stderr",
     "output_type": "stream",
     "text": [
      "Exception ignored in: <function _TemporaryFileCloser.__del__ at 0x7f96b58d3280>\n",
      "Traceback (most recent call last):\n",
      "  File \"/opt/conda/lib/python3.8/tempfile.py\", line 440, in __del__\n",
      "    self.close()\n",
      "  File \"/opt/conda/lib/python3.8/tempfile.py\", line 436, in close\n",
      "    unlink(self.name)\n",
      "FileNotFoundError: [Errno 2] No such file or directory: '/tmp/tmpegktsy2z/tmpd4ai3mhs.py'\n"
     ]
    },
    {
     "name": "stdout",
     "output_type": "stream",
     "text": [
      "Delete /home/zh21/mmpretrain/work_dirs/vitb32_eval/20230416_131043/vis_data/config.py\n"
     ]
    }
   ],
   "source": [
    "ES = []\n",
    "for exp in Path(WORKDIRS).glob('*'):\n",
    "    if not exp.is_dir():\n",
    "        continue\n",
    "    for trial in exp.glob('*'):\n",
    "        if not trial.is_dir():\n",
    "            continue\n",
    "        config_path = trial / 'vis_data' / 'config.py'\n",
    "        json_file = trial / 'vis_data' / f'{trial.stem}.json'\n",
    "        json_file2 = trial / 'vis_data' / f'scalars.json'\n",
    "        try:\n",
    "            cfg = Config.fromfile(str(config_path))\n",
    "        except:\n",
    "            config_path.unlink()\n",
    "            print(f'Delete {config_path}')\n",
    "\n",
    "        try:\n",
    "            results = load_json_log(json_file)\n",
    "        except:\n",
    "            print(f'Delete {json_file}')\n",
    "            continue\n",
    "        ES.append({\n",
    "            'exp': exp.stem,\n",
    "            'trial': trial.stem,\n",
    "            'cfg': cfg,\n",
    "            'results': results\n",
    "        })"
   ]
  },
  {
   "cell_type": "code",
   "execution_count": 58,
   "metadata": {},
   "outputs": [],
   "source": [
    "x = ES[0]"
   ]
  },
  {
   "cell_type": "code",
   "execution_count": 59,
   "metadata": {},
   "outputs": [],
   "source": [
    "def shots(x):\n",
    "    data_root = x['cfg'].train_dataloader.dataset.data_root\n",
    "    if '_' not in data_root:\n",
    "        return 99\n",
    "    try:\n",
    "        s = data_root.split('_')[1][5:]\n",
    "    except:\n",
    "        print(data_root)\n",
    "    return int(s)"
   ]
  },
  {
   "cell_type": "code",
   "execution_count": 60,
   "metadata": {},
   "outputs": [],
   "source": [
    "acc_top1 = lambda x: x['results']['val'][-1]['accuracy/top1']"
   ]
  },
  {
   "cell_type": "code",
   "execution_count": 61,
   "metadata": {},
   "outputs": [],
   "source": [
    "full_model_ft = lambda x: 'peft' not in x['cfg'].model"
   ]
  },
  {
   "cell_type": "code",
   "execution_count": 62,
   "metadata": {},
   "outputs": [],
   "source": [
    "box = []\n",
    "for E in ES:\n",
    "    fft = full_model_ft(E)\n",
    "    s = shots(E)\n",
    "    acc = acc_top1(E)\n",
    "    box.append([fft, s, acc])"
   ]
  },
  {
   "cell_type": "code",
   "execution_count": 63,
   "metadata": {},
   "outputs": [],
   "source": [
    "import pandas as pd"
   ]
  },
  {
   "cell_type": "code",
   "execution_count": 65,
   "metadata": {},
   "outputs": [
    {
     "data": {
      "text/html": [
       "<div>\n",
       "<style scoped>\n",
       "    .dataframe tbody tr th:only-of-type {\n",
       "        vertical-align: middle;\n",
       "    }\n",
       "\n",
       "    .dataframe tbody tr th {\n",
       "        vertical-align: top;\n",
       "    }\n",
       "\n",
       "    .dataframe thead th {\n",
       "        text-align: right;\n",
       "    }\n",
       "</style>\n",
       "<table border=\"1\" class=\"dataframe\">\n",
       "  <thead>\n",
       "    <tr style=\"text-align: right;\">\n",
       "      <th></th>\n",
       "      <th></th>\n",
       "      <th>acc_top1</th>\n",
       "    </tr>\n",
       "    <tr>\n",
       "      <th>full_model_ft</th>\n",
       "      <th>shots</th>\n",
       "      <th></th>\n",
       "    </tr>\n",
       "  </thead>\n",
       "  <tbody>\n",
       "    <tr>\n",
       "      <th rowspan=\"3\" valign=\"top\">False</th>\n",
       "      <th>1</th>\n",
       "      <td>48.345154</td>\n",
       "    </tr>\n",
       "    <tr>\n",
       "      <th>4</th>\n",
       "      <td>53.309692</td>\n",
       "    </tr>\n",
       "    <tr>\n",
       "      <th>16</th>\n",
       "      <td>69.444443</td>\n",
       "    </tr>\n",
       "    <tr>\n",
       "      <th rowspan=\"4\" valign=\"top\">True</th>\n",
       "      <th>1</th>\n",
       "      <td>51.063831</td>\n",
       "    </tr>\n",
       "    <tr>\n",
       "      <th>4</th>\n",
       "      <td>59.219860</td>\n",
       "    </tr>\n",
       "    <tr>\n",
       "      <th>16</th>\n",
       "      <td>66.607567</td>\n",
       "    </tr>\n",
       "    <tr>\n",
       "      <th>99</th>\n",
       "      <td>72.281326</td>\n",
       "    </tr>\n",
       "  </tbody>\n",
       "</table>\n",
       "</div>"
      ],
      "text/plain": [
       "                      acc_top1\n",
       "full_model_ft shots           \n",
       "False         1      48.345154\n",
       "              4      53.309692\n",
       "              16     69.444443\n",
       "True          1      51.063831\n",
       "              4      59.219860\n",
       "              16     66.607567\n",
       "              99     72.281326"
      ]
     },
     "execution_count": 65,
     "metadata": {},
     "output_type": "execute_result"
    }
   ],
   "source": [
    "pd.DataFrame.from_records(box, columns=['full_model_ft', 'shots', 'acc_top1']).groupby(['full_model_ft', 'shots']).max()"
   ]
  },
  {
   "cell_type": "code",
   "execution_count": null,
   "metadata": {},
   "outputs": [],
   "source": []
  }
 ],
 "metadata": {
  "kernelspec": {
   "display_name": "base",
   "language": "python",
   "name": "python3"
  },
  "language_info": {
   "codemirror_mode": {
    "name": "ipython",
    "version": 3
   },
   "file_extension": ".py",
   "mimetype": "text/x-python",
   "name": "python",
   "nbconvert_exporter": "python",
   "pygments_lexer": "ipython3",
   "version": "3.8.12"
  },
  "orig_nbformat": 4
 },
 "nbformat": 4,
 "nbformat_minor": 2
}
